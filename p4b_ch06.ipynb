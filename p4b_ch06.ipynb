{
 "cells": [
  {
   "cell_type": "code",
   "execution_count": 1,
   "metadata": {},
   "outputs": [
    {
     "name": "stdout",
     "output_type": "stream",
     "text": [
      "False\n",
      "False\n",
      "True\n",
      "False\n",
      "True\n",
      "True\n",
      "False\n",
      "True\n",
      "False\n",
      "True\n"
     ]
    }
   ],
   "source": [
    "print(3 == 5)\n",
    "print(3 > 5)\n",
    "print(3 <=5)\n",
    "print(len(\"ATGC\") > 5)\n",
    "print(\"GAATTC\".count(\"T\") > 1)\n",
    "print(\"ATGCTT\".startswith(\"ATG\"))\n",
    "print(\"ATGCTT\".endswith(\"TTT\"))\n",
    "print(\"ATGCTT\".isupper())\n",
    "print(\"ATGCTT\".islower())\n",
    "print(\"V\" in [\"V\", \"W\", \"L\"])"
   ]
  },
  {
   "cell_type": "code",
   "execution_count": 2,
   "metadata": {},
   "outputs": [
    {
     "name": "stdout",
     "output_type": "stream",
     "text": [
      "True\n",
      "False\n"
     ]
    }
   ],
   "source": [
    "print(True)\n",
    "print(False)"
   ]
  },
  {
   "cell_type": "code",
   "execution_count": 3,
   "metadata": {},
   "outputs": [
    {
     "ename": "NameError",
     "evalue": "name 'Hello' is not defined",
     "output_type": "error",
     "traceback": [
      "\u001b[0;31m---------------------------------------------------------------------------\u001b[0m",
      "\u001b[0;31mNameError\u001b[0m                                 Traceback (most recent call last)",
      "\u001b[0;32m<ipython-input-3-85bf5114fa6b>\u001b[0m in \u001b[0;36m<module>\u001b[0;34m()\u001b[0m\n\u001b[0;32m----> 1\u001b[0;31m \u001b[0mprint\u001b[0m\u001b[0;34m(\u001b[0m\u001b[0mHello\u001b[0m\u001b[0;34m)\u001b[0m\u001b[0;34m\u001b[0m\u001b[0m\n\u001b[0m",
      "\u001b[0;31mNameError\u001b[0m: name 'Hello' is not defined"
     ]
    }
   ],
   "source": [
    "print(Hello)"
   ]
  },
  {
   "cell_type": "code",
   "execution_count": 4,
   "metadata": {},
   "outputs": [
    {
     "name": "stdout",
     "output_type": "stream",
     "text": [
      "gene is highly expressed\n"
     ]
    }
   ],
   "source": [
    "expression_level = 125\n",
    "if expression_level > 100:\n",
    "   print(\"gene is highly expressed\")"
   ]
  },
  {
   "cell_type": "code",
   "execution_count": 5,
   "metadata": {},
   "outputs": [
    {
     "name": "stdout",
     "output_type": "stream",
     "text": [
      "ab56\n",
      "ay93\n",
      "ap97\n"
     ]
    }
   ],
   "source": [
    "accs = ['ab56', 'bh84', 'hv76', 'ay93', 'ap97', 'bd72']\n",
    "for accession in accs:\n",
    "    if accession.startswith('a'):\n",
    "       print(accession)"
   ]
  },
  {
   "cell_type": "code",
   "execution_count": 6,
   "metadata": {},
   "outputs": [
    {
     "name": "stdout",
     "output_type": "stream",
     "text": [
      "gene is highly expressed\n"
     ]
    }
   ],
   "source": [
    "expression_level = 125\n",
    "if expression_level > 100:\n",
    "   print(\"gene is highly expressed\")\n",
    "else:\n",
    "    print(\"gene is lowly expressed\")"
   ]
  },
  {
   "cell_type": "code",
   "execution_count": 8,
   "metadata": {},
   "outputs": [],
   "source": [
    "file1 = open(\"one.txt\", \"w\")\n",
    "file2 = open(\"two.txt\", \"w\")\n",
    "accs = ['ab56', 'bh84', 'hv76', 'ay93', 'ap97', 'bd72']\n",
    "for accession in accs:\n",
    "    if accession.startswith('a'):\n",
    "       file1.write(accession + \"\\n\")\n",
    "    else:\n",
    "       file2.write(accession + \"\\n\")"
   ]
  },
  {
   "cell_type": "code",
   "execution_count": 9,
   "metadata": {},
   "outputs": [],
   "source": [
    "\n",
    "file1 = open(\"one.txt\", \"w\")\n",
    "file2 = open(\"two.txt\", \"w\")\n",
    "file3 = open(\"three.txt\", \"w\")\n",
    "accs = ['ab56', 'bh84', 'hv76', 'ay93', 'ap97', 'bd72']\n",
    "for accession in accs:\n",
    "    if accession.startswith('a'):\n",
    "       file1.write(accession + \"\\n\")\n",
    "    else:\n",
    "       if accession.startswith('b'):\n",
    "           file2.write(accession + \"\\n\")\n",
    "       else:\n",
    "          file3.write(accession + \"\\n\")"
   ]
  },
  {
   "cell_type": "code",
   "execution_count": 10,
   "metadata": {},
   "outputs": [],
   "source": [
    "file1 = open(\"one.txt\", \"w\")\n",
    "file2 = open(\"two.txt\", \"w\")\n",
    "file3 = open(\"three.txt\", \"w\")\n",
    "accs = ['ab56', 'bh84', 'hv76', 'ay93', 'ap97', 'bd72']\n",
    "for accession in accs:\n",
    "    if accession.startswith('a'):\n",
    "       file1.write(accession + \"\\n\")\n",
    "    elif accession.startswith('b'):\n",
    "       file2.write(accession + \"\\n\")\n",
    "    else:\n",
    "       file3.write(accession + \"\\n\")"
   ]
  },
  {
   "cell_type": "code",
   "execution_count": 11,
   "metadata": {},
   "outputs": [
    {
     "ename": "NameError",
     "evalue": "name 'file6' is not defined",
     "output_type": "error",
     "traceback": [
      "\u001b[0;31m---------------------------------------------------------------------------\u001b[0m",
      "\u001b[0;31mNameError\u001b[0m                                 Traceback (most recent call last)",
      "\u001b[0;32m<ipython-input-11-6f7a49466c86>\u001b[0m in \u001b[0;36m<module>\u001b[0;34m()\u001b[0m\n\u001b[1;32m     12\u001b[0m        \u001b[0mfile5\u001b[0m\u001b[0;34m.\u001b[0m\u001b[0mwrite\u001b[0m\u001b[0;34m(\u001b[0m\u001b[0maccession\u001b[0m \u001b[0;34m+\u001b[0m \u001b[0;34m\"\\n\"\u001b[0m\u001b[0;34m)\u001b[0m\u001b[0;34m\u001b[0m\u001b[0m\n\u001b[1;32m     13\u001b[0m     \u001b[0;32melse\u001b[0m\u001b[0;34m:\u001b[0m\u001b[0;34m\u001b[0m\u001b[0m\n\u001b[0;32m---> 14\u001b[0;31m        \u001b[0mfile6\u001b[0m\u001b[0;34m.\u001b[0m\u001b[0mwrite\u001b[0m\u001b[0;34m(\u001b[0m\u001b[0maccession\u001b[0m \u001b[0;34m+\u001b[0m \u001b[0;34m\"\\n\"\u001b[0m\u001b[0;34m)\u001b[0m\u001b[0;34m\u001b[0m\u001b[0m\n\u001b[0m",
      "\u001b[0;31mNameError\u001b[0m: name 'file6' is not defined"
     ]
    }
   ],
   "source": [
    "\n",
    "for accession in accs:\n",
    "    if accession.startswith('a'):\n",
    "       file1.write(accession + \"\\n\")\n",
    "    elif accession.startswith('b'):\n",
    "       file2.write(accession + \"\\n\")\n",
    "    elif accession.startswith('c'):\n",
    "       file3.write(accession + \"\\n\")\n",
    "    elif accession.startswith('d'):\n",
    "       file4.write(accession + \"\\n\")\n",
    "    elif accession.startswith('e'):\n",
    "       file5.write(accession + \"\\n\")\n",
    "    else:\n",
    "       file6.write(accession + \"\\n\")"
   ]
  },
  {
   "cell_type": "code",
   "execution_count": 12,
   "metadata": {},
   "outputs": [
    {
     "name": "stdout",
     "output_type": "stream",
     "text": [
      "0\n",
      "1\n",
      "2\n",
      "3\n",
      "4\n",
      "5\n",
      "6\n",
      "7\n",
      "8\n",
      "9\n"
     ]
    }
   ],
   "source": [
    "count = 0\n",
    "while count<10:\n",
    "    print(count)\n",
    "    count = count + 1"
   ]
  },
  {
   "cell_type": "code",
   "execution_count": 13,
   "metadata": {},
   "outputs": [
    {
     "name": "stdout",
     "output_type": "stream",
     "text": [
      "ay93\n"
     ]
    }
   ],
   "source": [
    "accs = ['ab56', 'bh84', 'hv76', 'ay93', 'ap97', 'bd72']\n",
    "for accession in accs:\n",
    "    if accession.startswith('a'):\n",
    "       if accession.endswith('3'):\n",
    "          print(accession)"
   ]
  },
  {
   "cell_type": "code",
   "execution_count": 14,
   "metadata": {},
   "outputs": [
    {
     "name": "stdout",
     "output_type": "stream",
     "text": [
      "ay93\n"
     ]
    }
   ],
   "source": [
    "accs = ['ab56', 'bh84', 'hv76', 'ay93', 'ap97', 'bd72']\n",
    "for accession in accs:\n",
    "    if accession.startswith('a') and accession.endswith('3'):\n",
    "       print(accession)"
   ]
  },
  {
   "cell_type": "code",
   "execution_count": 15,
   "metadata": {},
   "outputs": [
    {
     "name": "stdout",
     "output_type": "stream",
     "text": [
      "ab56\n",
      "bh84\n",
      "ay93\n",
      "ap97\n",
      "bd72\n"
     ]
    }
   ],
   "source": [
    "accs = ['ab56', 'bh84', 'hv76', 'ay93', 'ap97', 'bd72']\n",
    "for accession in accs:\n",
    "    if accession.startswith('a') or accession.startswith('b'):\n",
    "       print(accession)"
   ]
  },
  {
   "cell_type": "code",
   "execution_count": 16,
   "metadata": {},
   "outputs": [
    {
     "name": "stdout",
     "output_type": "stream",
     "text": [
      "bh84\n"
     ]
    }
   ],
   "source": [
    "accs = ['ab56', 'bh84', 'hv76', 'ay93', 'ap97', 'bd72']\n",
    "for acc in accs:\n",
    "    if (acc.startswith('a') or acc.startswith('b')) and acc.endswith('4'):\n",
    "       print(acc)"
   ]
  },
  {
   "cell_type": "code",
   "execution_count": 17,
   "metadata": {},
   "outputs": [
    {
     "name": "stdout",
     "output_type": "stream",
     "text": [
      "ay93\n",
      "ap97\n"
     ]
    }
   ],
   "source": [
    "accs = ['ab56', 'bh84', 'hv76', 'ay93', 'ap97', 'bd72']\n",
    "for acc in accs:\n",
    "    if acc.startswith('a') and not acc.endswith('6'):\n",
    "       print(acc)"
   ]
  },
  {
   "cell_type": "code",
   "execution_count": 19,
   "metadata": {},
   "outputs": [
    {
     "ename": "IndentationError",
     "evalue": "expected an indented block (<ipython-input-19-d8c058fbb37f>, line 9)",
     "output_type": "error",
     "traceback": [
      "\u001b[0;36m  File \u001b[0;32m\"<ipython-input-19-d8c058fbb37f>\"\u001b[0;36m, line \u001b[0;32m9\u001b[0m\n\u001b[0;31m    return False\u001b[0m\n\u001b[0m         ^\u001b[0m\n\u001b[0;31mIndentationError\u001b[0m\u001b[0;31m:\u001b[0m expected an indented block\n"
     ]
    }
   ],
   "source": [
    "def is_at_rich(dna):\n",
    "    length = len(dna)\n",
    "    a_count = dna.upper().count('A')\n",
    "    t_count = dna.upper().count('T')\n",
    "    at_content = (a_count + t_count) / length\n",
    "    if at_content > 0.65:\n",
    "       return True\n",
    "    else:\n",
    "    return False"
   ]
  },
  {
   "cell_type": "code",
   "execution_count": 20,
   "metadata": {},
   "outputs": [],
   "source": [
    "def is_at_rich(dna):\n",
    "    length = len(dna)\n",
    "    a_count = dna.upper().count('A')\n",
    "    t_count = dna.upper().count('T')\n",
    "    at_content = (a_count + t_count) / length\n",
    "    if at_content > 0.65:\n",
    "       return True\n",
    "    else:\n",
    "        return False"
   ]
  },
  {
   "cell_type": "code",
   "execution_count": 21,
   "metadata": {},
   "outputs": [
    {
     "name": "stdout",
     "output_type": "stream",
     "text": [
      "True\n",
      "False\n"
     ]
    }
   ],
   "source": [
    "print(is_at_rich(\"ATTATCTACTA\"))\n",
    "print(is_at_rich(\"CGGCAGCGCT\"))"
   ]
  },
  {
   "cell_type": "code",
   "execution_count": 23,
   "metadata": {},
   "outputs": [
    {
     "ename": "SyntaxError",
     "evalue": "unexpected EOF while parsing (<ipython-input-23-1d501f3cdc30>, line 2)",
     "output_type": "error",
     "traceback": [
      "\u001b[0;36m  File \u001b[0;32m\"<ipython-input-23-1d501f3cdc30>\"\u001b[0;36m, line \u001b[0;32m2\u001b[0m\n\u001b[0;31m    # do something with the sequence\u001b[0m\n\u001b[0m                                    ^\u001b[0m\n\u001b[0;31mSyntaxError\u001b[0m\u001b[0;31m:\u001b[0m unexpected EOF while parsing\n"
     ]
    }
   ],
   "source": [
    "if is_at_rich(my_dna):\n",
    "    # do something with the sequence"
   ]
  },
  {
   "cell_type": "code",
   "execution_count": 24,
   "metadata": {},
   "outputs": [],
   "source": [
    "def is_at_rich(dna):\n",
    "    length = len(dna)\n",
    "    a_count = dna.upper().count('A')\n",
    "    t_count = dna.upper().count('T')\n",
    "    at_content = (a_count + t_count) / length\n",
    "    return at_content > 0.65"
   ]
  }
 ],
 "metadata": {
  "kernelspec": {
   "display_name": "Python 3",
   "language": "python",
   "name": "python3"
  },
  "language_info": {
   "codemirror_mode": {
    "name": "ipython",
    "version": 3
   },
   "file_extension": ".py",
   "mimetype": "text/x-python",
   "name": "python",
   "nbconvert_exporter": "python",
   "pygments_lexer": "ipython3",
   "version": "3.6.4"
  }
 },
 "nbformat": 4,
 "nbformat_minor": 2
}
